{
  "nbformat": 4,
  "nbformat_minor": 0,
  "metadata": {
    "colab": {
      "provenance": []
    },
    "kernelspec": {
      "name": "python3",
      "display_name": "Python 3"
    },
    "language_info": {
      "name": "python"
    }
  },
  "cells": [
    {
      "cell_type": "code",
      "execution_count": null,
      "metadata": {
        "id": "JIErc_lj0u2J"
      },
      "outputs": [],
      "source": [
        "import os\n",
        "import numpy as np\n",
        "import pandas as pd\n",
        "from PIL import Image\n",
        "import tensorflow as tf\n",
        "from tensorflow.keras import layers, models, optimizers\n",
        "from sklearn.model_selection import train_test_split\n",
        "from sklearn.preprocessing import LabelEncoder\n",
        "from tqdm import tqdm\n",
        "\n",
        "# Specify the path to the 'mhist.zip' file\n",
        "mhist_zip_path = '../ProjectA/mhist_dataset'\n",
        "\n",
        "# Load annotations from the CSV file\n",
        "annotations_path = \"../ProjectA/mhist_dataset/annotations.csv\"\n",
        "annotations_df = pd.read_csv(annotations_path, delimiter=',')\n",
        "\n",
        "# Filter and split data based on the 'Partition' column\n",
        "train_annotations = annotations_df[annotations_df['Partition'] == 'train']\n",
        "test_annotations = annotations_df[annotations_df['Partition'] == 'test']\n",
        "\n",
        "# Path to the directory containing the images\n",
        "images_dir = \"../ProjectA/mhist_dataset/images\"\n",
        "\n",
        "# Function to load and preprocess images\n",
        "def load_and_preprocess_image(image_path):\n",
        "    img = Image.open(image_path)\n",
        "    img = img.resize((64, 64))  # Assuming your images are 64x64 pixels\n",
        "    img_array = np.array(img) / 255.0\n",
        "    return img_array\n",
        "\n",
        "# Load images and labels\n",
        "all_image_paths = [os.path.join(images_dir, img_name) for img_name in annotations_df['Image Name']]\n",
        "all_labels = annotations_df['Partition'].values\n",
        "\n",
        "label_encoder = LabelEncoder()\n",
        "all_labels_encoded = label_encoder.fit_transform(all_labels)\n",
        "\n",
        "# Split data into train and test sets\n",
        "train_image_paths, test_image_paths, train_labels, test_labels = train_test_split(\n",
        "    all_image_paths, all_labels_encoded, test_size=0.2, random_state=42\n",
        ")\n",
        "\n",
        "# Load and preprocess images\n",
        "train_data = np.array([load_and_preprocess_image(img_path) for img_path in tqdm(train_image_paths)])\n",
        "test_data = np.array([load_and_preprocess_image(img_path) for img_path in tqdm(test_image_paths)])\n",
        "\n",
        "# Define your model\n",
        "num_classes = len(np.unique(all_labels_encoded))  # Assuming labels are integers\n",
        "model = models.Sequential([\n",
        "    layers.Conv2D(32, (3, 3), activation='relu', input_shape=(64, 64, 3)),\n",
        "    layers.MaxPooling2D((2, 2)),\n",
        "    layers.Conv2D(64, (3, 3), activation='relu'),\n",
        "    layers.MaxPooling2D((2, 2)),\n",
        "    layers.Conv2D(128, (3, 3), activation='relu'),\n",
        "    layers.Flatten(),\n",
        "    layers.Dense(256, activation='relu'),\n",
        "    layers.Dense(num_classes, activation='softmax')\n",
        "])\n",
        "\n",
        "# Compile the model\n",
        "model.compile(optimizer=optimizers.SGD(learning_rate=0.01),\n",
        "              loss='sparse_categorical_crossentropy',  # Adjust the loss function accordingly\n",
        "              metrics=['accuracy'])\n",
        "\n",
        "# Train the model\n",
        "history = model.fit(train_data, train_labels, epochs=20, batch_size=32, validation_split=0.2)\n",
        "\n",
        "# Evaluate the model on the test set\n",
        "test_loss, test_acc = model.evaluate(test_data, test_labels)\n",
        "print(f'Test accuracy: {test_acc}')"
      ]
    }
  ]
}